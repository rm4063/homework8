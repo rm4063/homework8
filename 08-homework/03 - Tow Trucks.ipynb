{
 "cells": [
  {
   "cell_type": "markdown",
   "metadata": {},
   "source": [
    "# Texas Tow Trucks\n",
    "\n",
    "We're going to scrape some [tow trucks in Texas](https://www.tdlr.texas.gov/tools_search/). \n",
    "\n",
    "**You can use ChatGPT for this one**, but I'd first try to do it on your own. Link to any conversations you have with ChatGPT. **Use the share button in the top right – not just the URL of your chat**."
   ]
  },
  {
   "cell_type": "markdown",
   "metadata": {},
   "source": [
    "# Part One: Building a company list\n",
    "\n",
    "Search for businesses with the word **WRECK** in their names.\n",
    "\n",
    "* **Tip:** Start by scraping the first page to a dataframe, then expand to a loop that combines all of the pages. Finally combine all of the dataframes with `pd.concat`. You might find [this page helpful](https://jonathansoma.com/everything/scraping/pagination/), although the \"On an interactive site\" example uses Selenium instead of Playwright. You should be able to figure out how to change it!\n",
    "* **Tip:** You can't just do a `try`/`except`, because even if you ask for page 99999 it will always give you the last page again! Watch out that you don't get stuck in an infinite loop!\n",
    "* **Tip:** Try to figure it out yourself before you submit to the gods of AI"
   ]
  },
  {
   "cell_type": "code",
   "execution_count": null,
   "metadata": {},
   "outputs": [],
   "source": []
  },
  {
   "cell_type": "code",
   "execution_count": null,
   "metadata": {},
   "outputs": [],
   "source": []
  },
  {
   "cell_type": "markdown",
   "metadata": {},
   "source": [
    "### Cleanup\n",
    "\n",
    "If you haven't already, rename the columns to be:\n",
    "    \n",
    "    * Customer\n",
    "    * DBA Name\n",
    "    * TDLR Number\n",
    "    * City\n",
    "    * State\n",
    "    * Zip code\n",
    "\n",
    "and remove all of the rows where the customer name is `Customer`."
   ]
  },
  {
   "cell_type": "code",
   "execution_count": null,
   "metadata": {},
   "outputs": [],
   "source": []
  },
  {
   "cell_type": "code",
   "execution_count": null,
   "metadata": {},
   "outputs": [],
   "source": []
  },
  {
   "cell_type": "markdown",
   "metadata": {},
   "source": [
    "## Save as `wreckers.csv`"
   ]
  },
  {
   "cell_type": "code",
   "execution_count": null,
   "metadata": {},
   "outputs": [],
   "source": []
  },
  {
   "cell_type": "markdown",
   "metadata": {},
   "source": [
    "# Part Two: Company info\n",
    "\n",
    "> You can use whatever tool you'd like for this, but form submission doesn't necessarily mean Playwright! If you want to go the `requests` route instead, feel free to [look at this page](https://jonathansoma.com/everything/scraping/pretending-to-be-a-browser/) about several ways to pretend to be a browser.\n",
    "\n",
    "## Step 1: Scraping one page\n",
    "\n",
    "Try searching from the [tools page](https://www.tdlr.texas.gov/tools_search/) for the TDLR Number `006556161C`. From the results page, scrape the:\n",
    "\n",
    "* Business name\n",
    "* Phone number\n",
    "* License status\n",
    "* Physical address\n",
    "\n",
    "And save the results into a dictionary. Also include `TDLR Number` in the dictionary. **Print the dictionary**.\n",
    "\n",
    "> ***Tip:** It's best if each item has its own key, but **it's fine to pull \"larger\" sections of the page and split them up in pandas later on***\n",
    ">\n",
    "> ***Tip:** Be sure you don't forget to include `TDLR Number` in the dictionary!*"
   ]
  },
  {
   "cell_type": "code",
   "execution_count": null,
   "metadata": {},
   "outputs": [],
   "source": []
  },
  {
   "cell_type": "code",
   "execution_count": null,
   "metadata": {},
   "outputs": [],
   "source": []
  },
  {
   "cell_type": "markdown",
   "metadata": {},
   "source": [
    "## Step 2: Move into one cell\n",
    "\n",
    "Move the code above all into one cell that relies on the variable `tdlr_number`.\n",
    "\n",
    "Add the code below to the page and confirm that it displays the data for the correct result.\n",
    "\n",
    "```python\n",
    "tdlr_number = '0654479VSF'\n",
    "```\n",
    "\n",
    "Confirm that the information is correct. Did it not work out? Go back and edit your selectors, or be a little broader in the parts of the page you sweep up."
   ]
  },
  {
   "cell_type": "code",
   "execution_count": null,
   "metadata": {},
   "outputs": [],
   "source": []
  },
  {
   "cell_type": "code",
   "execution_count": null,
   "metadata": {},
   "outputs": [],
   "source": []
  },
  {
   "cell_type": "markdown",
   "metadata": {},
   "source": [
    "## Step 3: Scraping many pages\n",
    "\n",
    "Using pandas, read in `trucks-subset.csv`."
   ]
  },
  {
   "cell_type": "code",
   "execution_count": null,
   "metadata": {},
   "outputs": [],
   "source": []
  },
  {
   "cell_type": "markdown",
   "metadata": {},
   "source": [
    "## Scrape every single row, creating a list of dictionaries from the scraped data.\n",
    "\n",
    "You should never use for loops with pandas *except when working with Playwright*. To use loops in pandas you'll make use of `.iterrows()`.\n",
    "\n",
    "The code below loops through a dataframe called `df` and prints out the `address` column.\n",
    "\n",
    "```python\n",
    "for index, row in df.iterrows():\n",
    "    print(row['address'])\n",
    "```\n",
    "\n",
    "You'll adapt this code to use your dataframe, and combine it with the scraping code you wrote above.\n",
    "\n",
    "> ***Tip:** This is like what we did for the townships in class*"
   ]
  },
  {
   "cell_type": "code",
   "execution_count": null,
   "metadata": {},
   "outputs": [],
   "source": []
  },
  {
   "cell_type": "code",
   "execution_count": null,
   "metadata": {},
   "outputs": [],
   "source": []
  },
  {
   "cell_type": "code",
   "execution_count": null,
   "metadata": {},
   "outputs": [],
   "source": []
  },
  {
   "cell_type": "code",
   "execution_count": null,
   "metadata": {},
   "outputs": [],
   "source": []
  },
  {
   "cell_type": "markdown",
   "metadata": {},
   "source": [
    "## Save your dataframe as `data-uncleaned.csv`"
   ]
  },
  {
   "cell_type": "code",
   "execution_count": null,
   "metadata": {},
   "outputs": [],
   "source": []
  },
  {
   "cell_type": "markdown",
   "metadata": {},
   "source": [
    "# Cleaning your data\n",
    "\n",
    "## Re-open the `data-uncleaned.csv` file\n",
    "\n",
    "You probably want to set `pd.options.display.max_colwidth`"
   ]
  },
  {
   "cell_type": "code",
   "execution_count": null,
   "metadata": {},
   "outputs": [],
   "source": []
  },
  {
   "cell_type": "markdown",
   "metadata": {},
   "source": [
    "## Clean it up!\n",
    "\n",
    "Make sure there are columns for\n",
    "\n",
    "- Business name\n",
    "- Phone number\n",
    "- License status\n",
    "- Physical address\n",
    "\n",
    "And drop all of the other columns (The easiest way is to use `df = df.drop(columns=[...])`)"
   ]
  },
  {
   "cell_type": "code",
   "execution_count": null,
   "metadata": {},
   "outputs": [],
   "source": []
  },
  {
   "cell_type": "code",
   "execution_count": null,
   "metadata": {},
   "outputs": [],
   "source": []
  },
  {
   "cell_type": "markdown",
   "metadata": {},
   "source": [
    "## Combine with the original CSV file\n",
    "\n",
    "To combine dataframes based on indexes, you use `df.join(other_df)`. If you'd prefer to match by columns, you could also use `df.merge(other_df, left_on='...', right_on='...')` and tell it the two columns that match between the two."
   ]
  },
  {
   "cell_type": "code",
   "execution_count": null,
   "metadata": {},
   "outputs": [],
   "source": []
  },
  {
   "cell_type": "code",
   "execution_count": null,
   "metadata": {},
   "outputs": [],
   "source": []
  },
  {
   "cell_type": "markdown",
   "metadata": {},
   "source": [
    "### Save to a CSV"
   ]
  },
  {
   "cell_type": "code",
   "execution_count": null,
   "metadata": {},
   "outputs": [],
   "source": []
  }
 ],
 "metadata": {
  "kernelspec": {
   "display_name": "Python 3 (ipykernel)",
   "language": "python",
   "name": "python3"
  },
  "language_info": {
   "codemirror_mode": {
    "name": "ipython",
    "version": 3
   },
   "file_extension": ".py",
   "mimetype": "text/x-python",
   "name": "python",
   "nbconvert_exporter": "python",
   "pygments_lexer": "ipython3",
   "version": "3.10.13"
  }
 },
 "nbformat": 4,
 "nbformat_minor": 4
}
